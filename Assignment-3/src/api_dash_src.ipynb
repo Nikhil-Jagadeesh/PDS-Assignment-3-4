{
  "cells": [
    {
      "cell_type": "code",
      "execution_count": 1,
      "id": "4dff1dd1",
      "metadata": {
        "colab": {
          "base_uri": "https://localhost:8080/"
        },
        "id": "4dff1dd1",
        "outputId": "ad478422-cf85-4c84-de4b-c2d2fee2df9d"
      },
      "outputs": [
        {
          "output_type": "stream",
          "name": "stdout",
          "text": [
            "Requirement already satisfied: requests in /usr/local/lib/python3.10/dist-packages (2.31.0)\n",
            "Requirement already satisfied: charset-normalizer<4,>=2 in /usr/local/lib/python3.10/dist-packages (from requests) (3.3.2)\n",
            "Requirement already satisfied: idna<4,>=2.5 in /usr/local/lib/python3.10/dist-packages (from requests) (3.6)\n",
            "Requirement already satisfied: urllib3<3,>=1.21.1 in /usr/local/lib/python3.10/dist-packages (from requests) (2.0.7)\n",
            "Requirement already satisfied: certifi>=2017.4.17 in /usr/local/lib/python3.10/dist-packages (from requests) (2024.2.2)\n"
          ]
        }
      ],
      "source": [
        "pip install requests"
      ]
    },
    {
      "cell_type": "code",
      "execution_count": 9,
      "id": "c6469146",
      "metadata": {
        "colab": {
          "base_uri": "https://localhost:8080/"
        },
        "id": "c6469146",
        "outputId": "1409d912-554f-438d-918a-456069848706"
      },
      "outputs": [
        {
          "output_type": "stream",
          "name": "stdout",
          "text": [
            "{'followers_count': 180604409, 'followers': [{'user_id': '95092020', 'screen_name': 'jordanbpeterson', 'description': 'Best-Selling Author | Clinical Psychologist | #1 Education Podcast | Listen to the podcast here:', 'profile_image': 'https://pbs.twimg.com/profile_images/1407056014776614923/TKBC60e1_normal.jpg', 'statuses_count': 48084, 'followers_count': 5229945, 'friends_count': 1612, 'media_count': 7049, 'location': '', 'name': 'Dr Jordan B Peterson', 'website': 'https://linktr.ee/DrJordanBPeterson'}, {'user_id': '39344374', 'screen_name': 'DonaldJTrumpJr', 'description': '', 'profile_image': 'https://pbs.twimg.com/profile_images/766652495858896897/LjrJJB9a_normal.jpg', 'statuses_count': 48390, 'followers_count': 11143401, 'friends_count': 1974, 'media_count': 2837, 'location': 'Florida, USA', 'name': 'Donald Trump Jr.', 'website': 'https://linktr.ee/donaldjtrumpjr'}, {'user_id': '18584875', 'screen_name': 'hodgetwins', 'description': 'Merch & Giveaways at: https://t.co/kxb8qjGCDW  —— PODCAST: @thetwinspod', 'profile_image': 'https://pbs.twimg.com/profile_images/1526065785659002880/uIvydi_U_normal.jpg', 'statuses_count': 26209, 'followers_count': 2519351, 'friends_count': 2640, 'media_count': 2141, 'location': 'United States', 'name': 'Hodgetwins', 'website': 'https://officialhodgetwins.com'}, {'user_id': '4914384040', 'screen_name': 'TheBabylonBee', 'description': 'Fake news you can trust.', 'profile_image': 'https://pbs.twimg.com/profile_images/1400100770624720898/-HC7kL5x_normal.jpg', 'statuses_count': 26204, 'followers_count': 3655454, 'friends_count': 9, 'media_count': 9899, 'location': 'United States', 'name': 'The Babylon Bee', 'website': 'http://linktr.ee/babylonbee'}, {'user_id': '18166778', 'screen_name': 'Jim_Jordan', 'description': \"Proudly serving Ohio's beautiful Fourth District. Chairman @JudiciaryGOP, @Weaponization. Fighting to #DoWhatWeSaid\", 'profile_image': 'https://pbs.twimg.com/profile_images/596012379231617025/TtrAXbnA_normal.jpg', 'statuses_count': 13450, 'followers_count': 4992995, 'friends_count': 3713, 'media_count': 1653, 'location': 'Washington, D.C. ', 'name': 'Rep. Jim Jordan', 'website': 'http://jordan.house.gov/'}, {'user_id': '232901331', 'screen_name': 'dbongino', 'description': 'Public Enemy #1', 'profile_image': 'https://pbs.twimg.com/profile_images/1484871034104958980/tA9vFFnu_normal.jpg', 'statuses_count': 43605, 'followers_count': 5159472, 'friends_count': 1902, 'media_count': 1499, 'location': 'Planet “Banned By YouTube” ', 'name': 'Dan Bongino', 'website': 'http://www.bongino.com'}, {'user_id': '427089628', 'screen_name': 'lexfridman', 'description': 'Host of Lex Fridman Podcast.\\nInterested in robots and humans.', 'profile_image': 'https://pbs.twimg.com/profile_images/956331551435960322/OaqR8pAB_normal.jpg', 'statuses_count': 3260, 'followers_count': 3489346, 'friends_count': 123, 'media_count': 1061, 'location': 'Austin and Boston', 'name': 'Lex Fridman', 'website': 'https://lexfridman.com/podcast'}, {'user_id': '1201670995435646976', 'screen_name': 'laurenboebert', 'description': 'Lauren Boebert for Congress: Congresswoman & candidate for CO-04. Professional RINO Hunter. Raising my boys to be MEN before liberals teach them to be women!', 'profile_image': 'https://pbs.twimg.com/profile_images/1498803395578236934/vGGuE9-k_normal.jpg', 'statuses_count': 9245, 'followers_count': 3384733, 'friends_count': 1368, 'media_count': 1052, 'location': 'Colorado, USA', 'name': 'Lauren Boebert', 'website': 'https://secure.winred.com/lauren-boebert-for-congress/tw23'}, {'user_id': '91882544', 'screen_name': 'DineshDSouza', 'description': 'Author, Filmmaker, Host of the Dinesh D’Souza Podcast. Follow me on Locals: https://t.co/UDFY7UCJDc', 'profile_image': 'https://pbs.twimg.com/profile_images/890967538292711424/8puyFbiI_normal.jpg', 'statuses_count': 137328, 'followers_count': 3991750, 'friends_count': 7696, 'media_count': 12495, 'location': 'United States', 'name': \"Dinesh D'Souza\", 'website': 'https://podcasts.apple.com/us/podcast/the-dinesh-dsouza-podcast/id1547827376'}, {'user_id': '1344356576786866176', 'screen_name': 'RepMTG', 'description': 'Christian, Mother, American, Business Owner, and Congresswoman representing Georgia’s 14th District', 'profile_image': 'https://pbs.twimg.com/profile_images/1694851591608627200/hYLDFj9G_normal.jpg', 'statuses_count': 6482, 'followers_count': 3220297, 'friends_count': 436, 'media_count': 1699, 'location': 'Rome, GA', 'name': 'Rep. Marjorie Taylor Greene🇺🇸', 'website': 'http://Greene.House.gov'}, {'user_id': '17995040', 'screen_name': 'benshapiro', 'description': 'Daily Wire co-founder, host of @benshapiroshow, #1 NYT bestselling author, America’s #1 ex-rapper', 'profile_image': 'https://pbs.twimg.com/profile_images/1753038194721869825/F_Ye7MgE_normal.jpg', 'statuses_count': 194758, 'followers_count': 6656904, 'friends_count': 378, 'media_count': 8061, 'location': '', 'name': 'Ben Shapiro', 'website': 'https://bit.ly/3M5qqMv'}, {'user_id': '34743251', 'screen_name': 'SpaceX', 'description': 'SpaceX designs, manufactures and launches the world’s most advanced rockets and spacecraft', 'profile_image': 'https://pbs.twimg.com/profile_images/1697749409851985920/HbrI04tM_normal.jpg', 'statuses_count': 8374, 'followers_count': 34232126, 'friends_count': 113, 'media_count': 2997, 'location': 'Earth', 'name': 'SpaceX', 'website': 'http://spacex.com'}, {'user_id': '33608041', 'screen_name': 'ksorbs', 'description': 'Actor, director, producer, author.', 'profile_image': 'https://pbs.twimg.com/profile_images/973666854995599361/A_xzZ5Qv_normal.jpg', 'statuses_count': 20115, 'followers_count': 1970244, 'friends_count': 468, 'media_count': 2112, 'location': 'Florida, USA', 'name': 'Kevin Sorbo', 'website': 'https://linktr.ee/ksorbs'}, {'user_id': '1467931973616386052', 'screen_name': 'ThisIsKyleR', 'description': 'Order my new book ACQUITTED today!👇', 'profile_image': 'https://pbs.twimg.com/profile_images/1726405741798408192/jTrLlE51_normal.jpg', 'statuses_count': 2217, 'followers_count': 1184363, 'friends_count': 594, 'media_count': 169, 'location': 'Dallas, TX', 'name': 'Kyle Rittenhouse', 'website': 'http://rittenhousebook.com'}, {'user_id': '18266688', 'screen_name': 'TomFitton', 'description': 'President, Judicial Watch. Fact checker. \"Expert\" (These are my personal views only!) LATEST BEST SELLER BOOK: A Republic Under Assault: https://t.co/0SmAJ7aAGp', 'profile_image': 'https://pbs.twimg.com/profile_images/964235516794171392/ktAX5u2i_normal.jpg', 'statuses_count': 78542, 'followers_count': 2591769, 'friends_count': 4283, 'media_count': 8733, 'location': 'Washington, DC', 'name': 'Tom Fitton', 'website': 'http://www.JudicialWatch.org'}, {'user_id': '216881337', 'screen_name': 'RandPaul', 'description': 'U.S. Senator for Kentucky | I fight for the Constitution, individual liberty and the freedoms that make this country great.', 'profile_image': 'https://pbs.twimg.com/profile_images/681152691461042177/_PrgDgFA_normal.jpg', 'statuses_count': 18089, 'followers_count': 5226457, 'friends_count': 710, 'media_count': 3604, 'location': 'Bowling Green, KY', 'name': 'Rand Paul', 'website': 'http://randpaul.com'}, {'user_id': '23022687', 'screen_name': 'tedcruz', 'description': \"Father of two, @heidiscruz's husband, fighter for liberty. Representing the great state of Texas in the U.S. Senate.\", 'profile_image': 'https://pbs.twimg.com/profile_images/1717966605903179776/scSx1uhK_normal.jpg', 'statuses_count': 47174, 'followers_count': 6325544, 'friends_count': 5421, 'media_count': 7164, 'location': 'Houston, Texas', 'name': 'Ted Cruz', 'website': 'http://Tedcruz.org/Unwoke'}, {'user_id': '13298072', 'screen_name': 'Tesla', 'description': 'Electric vehicles, giant batteries & solar', 'profile_image': 'https://pbs.twimg.com/profile_images/1337607516008501250/6Ggc4S5n_normal.png', 'statuses_count': 8400, 'followers_count': 22039039, 'friends_count': 54, 'media_count': 1631, 'location': '', 'name': 'Tesla', 'website': 'https://www.tesla.com'}, {'user_id': '259001548', 'screen_name': 'kayleighmcenany', 'description': 'Co-host @OutnumberedFNC. Fmr. White House Press Secretary. Author of \"Serenity in the Storm.” Harvard Law. Georgetown SFS.', 'profile_image': 'https://pbs.twimg.com/profile_images/1643718067359285250/kHpukWKC_normal.jpg', 'statuses_count': 24926, 'followers_count': 3515007, 'friends_count': 2652, 'media_count': 2101, 'location': '', 'name': 'Kayleigh McEnany', 'website': 'https://www.amazon.com/Serenity-Storm-Living-Through-Leaning/dp/1637587295'}, {'user_id': '20545835', 'screen_name': 'NEWSMAX', 'description': 'Real News for Real People. \\n\\nWatch NEWSMAX, an independent news network with a conservative perspective, available in 100M+ U.S. homes: https://t.co/rs8XZDalW3', 'profile_image': 'https://pbs.twimg.com/profile_images/1394735604269817857/AXKKo6XT_normal.jpg', 'statuses_count': 203265, 'followers_count': 2714928, 'friends_count': 736, 'media_count': 54992, 'location': 'United States', 'name': 'NEWSMAX', 'website': 'http://www.newsmax.com'}, {'user_id': '1780069210284064768', 'screen_name': 'tonganninjaa', 'description': '', 'profile_image': 'https://abs.twimg.com/sticky/default_profile_images/default_profile_normal.png', 'statuses_count': 0, 'followers_count': 0, 'friends_count': 2, 'media_count': 0, 'location': '', 'name': 'Mike Karlsson'}, {'user_id': '1780067950629621761', 'screen_name': 'S111090107Steve', 'description': '', 'profile_image': 'https://pbs.twimg.com/profile_images/1780068808184479744/oCHIe9Lx_normal.png', 'statuses_count': 0, 'followers_count': 0, 'friends_count': 1, 'media_count': 0, 'location': '', 'name': 'Steve'}, {'user_id': '1780069345282121728', 'screen_name': 'IWeb351523', 'description': '', 'profile_image': 'https://abs.twimg.com/sticky/default_profile_images/default_profile_normal.png', 'statuses_count': 0, 'followers_count': 0, 'friends_count': 1, 'media_count': 0, 'location': '', 'name': 'immihu.web3 🎙️'}, {'user_id': '1780069325744771072', 'screen_name': '07Edevbie5461', 'description': '', 'profile_image': 'https://abs.twimg.com/sticky/default_profile_images/default_profile_normal.png', 'statuses_count': 0, 'followers_count': 0, 'friends_count': 1, 'media_count': 0, 'location': '', 'name': 'emu edevbie 07'}, {'user_id': '1667510523716567040', 'screen_name': '5tupider', 'description': '', 'profile_image': 'https://pbs.twimg.com/profile_images/1667510789337673728/lLN6d0eG_normal.png', 'statuses_count': 0, 'followers_count': 0, 'friends_count': 2, 'media_count': 0, 'location': '', 'name': '张正义'}, {'user_id': '1780069567848689665', 'screen_name': '2655eth687892', 'description': '', 'profile_image': 'https://abs.twimg.com/sticky/default_profile_images/default_profile_normal.png', 'statuses_count': 0, 'followers_count': 0, 'friends_count': 1, 'media_count': 0, 'location': '', 'name': '2655.eth'}, {'user_id': '1780069325464109056', 'screen_name': 'BeneaShan55557', 'description': '', 'profile_image': 'https://abs.twimg.com/sticky/default_profile_images/default_profile_normal.png', 'statuses_count': 0, 'followers_count': 0, 'friends_count': 0, 'media_count': 0, 'location': '', 'name': 'ジャムズ山本えあ🍏'}, {'user_id': '1665871540527792129', 'screen_name': 'dyonatan1997', 'description': '', 'profile_image': 'https://pbs.twimg.com/profile_images/1665871864424542209/KkVzhKvm_normal.jpg', 'statuses_count': 1, 'followers_count': 1, 'friends_count': 28, 'media_count': 0, 'location': '', 'name': 'Dyonatan Fernandes'}, {'user_id': '1780068946835836928', 'screen_name': 'Max248703173411', 'description': '', 'profile_image': 'https://pbs.twimg.com/profile_images/1780069192995336192/HQwSPbxK_normal.jpg', 'statuses_count': 0, 'followers_count': 0, 'friends_count': 1, 'media_count': 0, 'location': '', 'name': 'Max'}, {'user_id': '1779018833526718464', 'screen_name': 'Anur1832Singh', 'description': '', 'profile_image': 'https://pbs.twimg.com/profile_images/1779018928192118784/RflPbn4C_normal.png', 'statuses_count': 0, 'followers_count': 0, 'friends_count': 13, 'media_count': 0, 'location': '', 'name': 'Anurag Anurag singh'}, {'user_id': '1372755173186019328', 'screen_name': 'Amara80936166', 'description': '', 'profile_image': 'https://abs.twimg.com/sticky/default_profile_images/default_profile_normal.png', 'statuses_count': 0, 'followers_count': 0, 'friends_count': 4, 'media_count': 0, 'location': '', 'name': 'Amara'}, {'user_id': '1780066694859292672', 'screen_name': 'AlyssaCruz7513', 'description': '', 'profile_image': 'https://abs.twimg.com/sticky/default_profile_images/default_profile_normal.png', 'statuses_count': 0, 'followers_count': 0, 'friends_count': 1, 'media_count': 0, 'location': '', 'name': 'Alyssa Cruz'}, {'user_id': '1780068108100644864', 'screen_name': 'BirthedInSin', 'description': '', 'profile_image': 'https://pbs.twimg.com/profile_images/1780069484604063744/z29eMM0z_normal.jpg', 'statuses_count': 0, 'followers_count': 0, 'friends_count': 1, 'media_count': 0, 'location': '', 'name': 'BirthedInSin'}, {'user_id': '1780069550903660544', 'screen_name': 'Mirror935280', 'description': '', 'profile_image': 'https://abs.twimg.com/sticky/default_profile_images/default_profile_normal.png', 'statuses_count': 0, 'followers_count': 0, 'friends_count': 0, 'media_count': 0, 'location': '', 'name': 'Mirror'}, {'user_id': '1780067744962260992', 'screen_name': 'ryderthomp95941', 'description': '', 'profile_image': 'https://pbs.twimg.com/profile_images/1780067845382262784/kowfjFrU_normal.jpg', 'statuses_count': 0, 'followers_count': 0, 'friends_count': 27, 'media_count': 0, 'location': '', 'name': 'ryder thompson'}, {'user_id': '1780068728488505345', 'screen_name': 'Jiangyi11276901', 'description': '', 'profile_image': 'https://pbs.twimg.com/profile_images/1780069225555472384/83N88FCl_normal.jpg', 'statuses_count': 0, 'followers_count': 0, 'friends_count': 2, 'media_count': 0, 'location': '', 'name': 'Jiangyi'}, {'user_id': '1780069503851773952', 'screen_name': 'reerrehmhm1486', 'description': '', 'profile_image': 'https://abs.twimg.com/sticky/default_profile_images/default_profile_normal.png', 'statuses_count': 0, 'followers_count': 0, 'friends_count': 3, 'media_count': 0, 'location': '', 'name': 'reerrehmhmm'}, {'user_id': '1780069411866447872', 'screen_name': 'JohnsomBor5466', 'description': '', 'profile_image': 'https://abs.twimg.com/sticky/default_profile_images/default_profile_normal.png', 'statuses_count': 0, 'followers_count': 0, 'friends_count': 1, 'media_count': 0, 'location': '', 'name': 'Boris Johnsom'}, {'user_id': '1780067042852294656', 'screen_name': 'AmyRichter47539', 'description': '', 'profile_image': 'https://abs.twimg.com/sticky/default_profile_images/default_profile_normal.png', 'statuses_count': 0, 'followers_count': 0, 'friends_count': 2, 'media_count': 0, 'location': '', 'name': 'Amy Richter'}, {'user_id': '1443087868881145857', 'screen_name': 'mohmediZd9', 'description': 'والله يدعو الي دار السلام', 'profile_image': 'https://pbs.twimg.com/profile_images/1443093578016772102/90Wonal1_normal.jpg', 'statuses_count': 55, 'followers_count': 19, 'friends_count': 283, 'media_count': 3, 'location': '', 'name': 'محمد جمال'}, {'user_id': '1780069549158592512', 'screen_name': 'santoshpol15599', 'description': '', 'profile_image': 'https://abs.twimg.com/sticky/default_profile_images/default_profile_normal.png', 'statuses_count': 0, 'followers_count': 0, 'friends_count': 1, 'media_count': 0, 'location': '', 'name': 'santoshpolasa'}, {'user_id': '1780069426974588928', 'screen_name': 'MichaelJen12313', 'description': '', 'profile_image': 'https://pbs.twimg.com/profile_images/1780069501297651712/cds5hKtj_normal.jpg', 'statuses_count': 0, 'followers_count': 0, 'friends_count': 17, 'media_count': 0, 'location': '', 'name': 'Michael Jenkins'}, {'user_id': '1780069237387890688', 'screen_name': 'hsiwjbs', 'description': '', 'profile_image': 'https://pbs.twimg.com/profile_images/1780069294635900928/JlX5gkoW_normal.png', 'statuses_count': 0, 'followers_count': 0, 'friends_count': 1, 'media_count': 0, 'location': '', 'name': 'Fitri Fawwaz'}, {'user_id': '1692219223316049935', 'screen_name': 'Phobixl', 'description': '', 'profile_image': 'https://pbs.twimg.com/profile_images/1692228743966732289/V5co4D89_normal.jpg', 'statuses_count': 92, 'followers_count': 135, 'friends_count': 517, 'media_count': 10, 'location': '', 'name': 'Phobixl'}, {'user_id': '1780067317147115520', 'screen_name': 'ms_oxmpzzz', 'description': '', 'profile_image': 'https://pbs.twimg.com/profile_images/1780067782794620929/btPLREYb_normal.jpg', 'statuses_count': 0, 'followers_count': 0, 'friends_count': 15, 'media_count': 0, 'location': '', 'name': 'ms.oxmpzzz'}, {'user_id': '1780069117656977409', 'screen_name': 'calidudelost', 'description': '', 'profile_image': 'https://abs.twimg.com/sticky/default_profile_images/default_profile_normal.png', 'statuses_count': 0, 'followers_count': 0, 'friends_count': 4, 'media_count': 0, 'location': '', 'name': 'calidude'}, {'user_id': '1780067828428652545', 'screen_name': 'CynthiaJon81121', 'description': '', 'profile_image': 'https://abs.twimg.com/sticky/default_profile_images/default_profile_normal.png', 'statuses_count': 0, 'followers_count': 0, 'friends_count': 3, 'media_count': 0, 'location': '', 'name': 'Cynthia Jones'}, {'user_id': '1780068584645144576', 'screen_name': 'theblcksmthswfe', 'description': '', 'profile_image': 'https://pbs.twimg.com/profile_images/1780068745035276288/K96F94vI_normal.png', 'statuses_count': 0, 'followers_count': 0, 'friends_count': 1, 'media_count': 0, 'location': '', 'name': 'Janice Godfrey'}, {'user_id': '1780069519555194881', 'screen_name': 'BrokimE21067', 'description': '', 'profile_image': 'https://abs.twimg.com/sticky/default_profile_images/default_profile_normal.png', 'statuses_count': 0, 'followers_count': 0, 'friends_count': 1, 'media_count': 0, 'location': '', 'name': 'BroKim.ETH'}, {'user_id': '1780066572276547584', 'screen_name': 'MalottStac97511', 'description': '', 'profile_image': 'https://abs.twimg.com/sticky/default_profile_images/default_profile_normal.png', 'statuses_count': 0, 'followers_count': 0, 'friends_count': 2, 'media_count': 0, 'location': '', 'name': 'Stacey Malott'}, {'user_id': '1780069530586468352', 'screen_name': 'LanaJavier83166', 'description': 'MOD @ZillazNFT | BAMILIA 🤌 Proud holder @zillaznft @communi3_io @bakedbeavers @chillchatme @moshiheads @tenjin3dnft @delysidkiddos', 'profile_image': 'https://pbs.twimg.com/profile_images/1780069596982288384/ER0mHT9L_normal.png', 'statuses_count': 0, 'followers_count': 0, 'friends_count': 1, 'media_count': 0, 'location': \"Lao People's Democratic Republic\", 'name': 'Addison Javier Lana'}, {'user_id': '1780065730131603456', 'screen_name': 'mario_lesn65167', 'description': '', 'profile_image': 'https://pbs.twimg.com/profile_images/1780066076245553152/NBiBg6lk_normal.jpg', 'statuses_count': 0, 'followers_count': 0, 'friends_count': 1, 'media_count': 0, 'location': '', 'name': 'Mario Lesnik'}, {'user_id': '1780069533060927489', 'screen_name': 'ZimmerGise34695', 'description': '“You can overcome anything, if and only if you love something enough.”', 'profile_image': 'https://pbs.twimg.com/profile_images/1780069595207905280/yxObMag2_normal.png', 'statuses_count': 0, 'followers_count': 0, 'friends_count': 1, 'media_count': 0, 'location': 'Virgin Islands, U.S.', 'name': 'gisella zimmer'}, {'user_id': '1780067417374552064', 'screen_name': 'norman_all88988', 'description': '', 'profile_image': 'https://pbs.twimg.com/profile_images/1780069148770623488/oaVoHFoW_normal.jpg', 'statuses_count': 0, 'followers_count': 0, 'friends_count': 1, 'media_count': 0, 'location': '', 'name': 'Norman Allen'}, {'user_id': '1780069247290372096', 'screen_name': 'Gareenshirt0', 'description': '', 'profile_image': 'https://pbs.twimg.com/profile_images/1780069386830610433/vspQ4yHp_normal.jpg', 'statuses_count': 0, 'followers_count': 0, 'friends_count': 1, 'media_count': 0, 'location': '', 'name': 'Malik Raju'}, {'user_id': '1780069431340613632', 'screen_name': 'egor9324980', 'description': '', 'profile_image': 'https://abs.twimg.com/sticky/default_profile_images/default_profile_normal.png', 'statuses_count': 0, 'followers_count': 0, 'friends_count': 1, 'media_count': 0, 'location': '', 'name': 'egor9324980'}, {'user_id': '1780069294581207040', 'screen_name': 'BenLuni31656', 'description': '', 'profile_image': 'https://abs.twimg.com/sticky/default_profile_images/default_profile_normal.png', 'statuses_count': 0, 'followers_count': 0, 'friends_count': 1, 'media_count': 0, 'location': '', 'name': '山本陸ニ'}, {'user_id': '1780068775460556800', 'screen_name': 'Aldred533914', 'description': '', 'profile_image': 'https://pbs.twimg.com/profile_images/1780068923452313600/m7rri5YV_normal.jpg', 'statuses_count': 0, 'followers_count': 0, 'friends_count': 12, 'media_count': 0, 'location': '', 'name': 'Aldred'}, {'user_id': '1780069519555235840', 'screen_name': 'BGrigoryev66160', 'description': '', 'profile_image': 'https://pbs.twimg.com/profile_images/1780069604703830016/mm5_Bj6f_normal.png', 'statuses_count': 0, 'followers_count': 0, 'friends_count': 1, 'media_count': 0, 'location': '', 'name': 'Bogdan Grigoryev'}, {'user_id': '1780069416681836544', 'screen_name': 'KujeAri', 'description': '', 'profile_image': 'https://pbs.twimg.com/profile_images/1780069456028516352/NXq0ycnQ_normal.png', 'statuses_count': 0, 'followers_count': 0, 'friends_count': 3, 'media_count': 0, 'location': '', 'name': 'Ari Kuje'}, {'user_id': '1780069529307242496', 'screen_name': 'tycoon_jpe33134', 'description': 'NFT Artist || NFT Collector || On-Chain Analysis || Metaverse原住民', 'profile_image': 'https://pbs.twimg.com/profile_images/1780069584944709632/nLweyT_l_normal.png', 'statuses_count': 0, 'followers_count': 0, 'friends_count': 1, 'media_count': 0, 'location': 'Moldova, Republic of', 'name': '| JPEG_Tycoon | ape ®'}, {'user_id': '1780069357374033920', 'screen_name': 'jawed21045', 'description': '', 'profile_image': 'https://pbs.twimg.com/profile_images/1780069438441537537/lw0gePnP_normal.png', 'statuses_count': 0, 'followers_count': 0, 'friends_count': 10, 'media_count': 0, 'location': '', 'name': 'Md Jawed'}, {'user_id': '1780069217854799872', 'screen_name': 'chmsmpmszx', 'description': '', 'profile_image': 'https://abs.twimg.com/sticky/default_profile_images/default_profile_normal.png', 'statuses_count': 0, 'followers_count': 0, 'friends_count': 1, 'media_count': 0, 'location': '', 'name': 'Michelle Mejia'}, {'user_id': '1780069281922781185', 'screen_name': 'HuinopitaD15107', 'description': '', 'profile_image': 'https://abs.twimg.com/sticky/default_profile_images/default_profile_normal.png', 'statuses_count': 0, 'followers_count': 0, 'friends_count': 1, 'media_count': 0, 'location': '', 'name': '都会のピーター'}, {'user_id': '1780069522415943680', 'screen_name': 'maria_newm36227', 'description': 'Live⛪, Laugh🤣, Love❤, Sneaks👟 Old family man trying for limited release items 😄 🤣 😂', 'profile_image': 'https://pbs.twimg.com/profile_images/1780069581316624384/Aq236GQP_normal.png', 'statuses_count': 0, 'followers_count': 0, 'friends_count': 1, 'media_count': 0, 'location': 'Equatorial Guinea', 'name': 'Maria Newman'}, {'user_id': '1780067443060412416', 'screen_name': 'RosalieRut63640', 'description': '', 'profile_image': 'https://pbs.twimg.com/profile_images/1780069129439059968/upYYHwK6_normal.jpg', 'statuses_count': 0, 'followers_count': 0, 'friends_count': 1, 'media_count': 0, 'location': '', 'name': 'Ruth Rosalie'}, {'user_id': '1780069227228975105', 'screen_name': 'hello348291', 'description': '', 'profile_image': 'https://abs.twimg.com/sticky/default_profile_images/default_profile_normal.png', 'statuses_count': 0, 'followers_count': 0, 'friends_count': 1, 'media_count': 0, 'location': '', 'name': 'hello'}, {'user_id': '1780069245210292224', 'screen_name': 'tngfi3129213517', 'description': '', 'profile_image': 'https://pbs.twimg.com/profile_images/1780069443093377024/J1P3DeGD_normal.jpg', 'statuses_count': 0, 'followers_count': 0, 'friends_count': 5, 'media_count': 0, 'location': '', 'name': '腾飞'}, {'user_id': '1780068670699380736', 'screen_name': 'TTonoyanAM', 'description': '', 'profile_image': 'https://pbs.twimg.com/profile_images/1780068798201995264/PeNpIO6F_normal.jpg', 'statuses_count': 0, 'followers_count': 0, 'friends_count': 15, 'media_count': 0, 'location': '', 'name': 'Taron Tonoyan'}, {'user_id': '1780069522168582144', 'screen_name': 'YieldF51861', 'description': 'WTC', 'profile_image': 'https://pbs.twimg.com/profile_images/1780069576304427009/f93wOJp__normal.png', 'statuses_count': 0, 'followers_count': 0, 'friends_count': 1, 'media_count': 0, 'location': 'Paraguay', 'name': 'Yield Farm'}], 'next_cursor': '1796458808442200022|1780069607294369720', 'status': 'ok', 'more_users': True}\n"
          ]
        }
      ],
      "source": [
        "import requests\n",
        "\n",
        "url = \"https://twitter-api45.p.rapidapi.com/followers.php\"\n",
        "\n",
        "querystring = {\"screenname\":\"elonmusk\"}\n",
        "\n",
        "headers = {\n",
        "\t\"X-RapidAPI-Key\": \"a4c9a8f42fmsh3b2cd956ab2167bp1096fbjsn654dd6eeb638\",\n",
        "\t\"X-RapidAPI-Host\": \"twitter-api45.p.rapidapi.com\"\n",
        "}\n",
        "\n",
        "response = requests.get(url, headers=headers, params=querystring)\n",
        "\n",
        "print(response.json())"
      ]
    },
    {
      "cell_type": "code",
      "execution_count": 6,
      "id": "3a23fc20",
      "metadata": {
        "colab": {
          "base_uri": "https://localhost:8080/"
        },
        "id": "3a23fc20",
        "outputId": "a253b943-2115-4a86-af35-00be89e73c0c"
      },
      "outputs": [
        {
          "output_type": "stream",
          "name": "stdout",
          "text": [
            "Requirement already satisfied: dash in /usr/local/lib/python3.10/dist-packages (2.16.1)\n",
            "Requirement already satisfied: Flask<3.1,>=1.0.4 in /usr/local/lib/python3.10/dist-packages (from dash) (2.2.5)\n",
            "Requirement already satisfied: Werkzeug<3.1 in /usr/local/lib/python3.10/dist-packages (from dash) (3.0.2)\n",
            "Requirement already satisfied: plotly>=5.0.0 in /usr/local/lib/python3.10/dist-packages (from dash) (5.15.0)\n",
            "Requirement already satisfied: dash-html-components==2.0.0 in /usr/local/lib/python3.10/dist-packages (from dash) (2.0.0)\n",
            "Requirement already satisfied: dash-core-components==2.0.0 in /usr/local/lib/python3.10/dist-packages (from dash) (2.0.0)\n",
            "Requirement already satisfied: dash-table==5.0.0 in /usr/local/lib/python3.10/dist-packages (from dash) (5.0.0)\n",
            "Requirement already satisfied: importlib-metadata in /usr/local/lib/python3.10/dist-packages (from dash) (7.1.0)\n",
            "Requirement already satisfied: typing-extensions>=4.1.1 in /usr/local/lib/python3.10/dist-packages (from dash) (4.11.0)\n",
            "Requirement already satisfied: requests in /usr/local/lib/python3.10/dist-packages (from dash) (2.31.0)\n",
            "Requirement already satisfied: retrying in /usr/local/lib/python3.10/dist-packages (from dash) (1.3.4)\n",
            "Requirement already satisfied: nest-asyncio in /usr/local/lib/python3.10/dist-packages (from dash) (1.6.0)\n",
            "Requirement already satisfied: setuptools in /usr/local/lib/python3.10/dist-packages (from dash) (67.7.2)\n",
            "Requirement already satisfied: Jinja2>=3.0 in /usr/local/lib/python3.10/dist-packages (from Flask<3.1,>=1.0.4->dash) (3.1.3)\n",
            "Requirement already satisfied: itsdangerous>=2.0 in /usr/local/lib/python3.10/dist-packages (from Flask<3.1,>=1.0.4->dash) (2.1.2)\n",
            "Requirement already satisfied: click>=8.0 in /usr/local/lib/python3.10/dist-packages (from Flask<3.1,>=1.0.4->dash) (8.1.7)\n",
            "Requirement already satisfied: tenacity>=6.2.0 in /usr/local/lib/python3.10/dist-packages (from plotly>=5.0.0->dash) (8.2.3)\n",
            "Requirement already satisfied: packaging in /usr/local/lib/python3.10/dist-packages (from plotly>=5.0.0->dash) (24.0)\n",
            "Requirement already satisfied: MarkupSafe>=2.1.1 in /usr/local/lib/python3.10/dist-packages (from Werkzeug<3.1->dash) (2.1.5)\n",
            "Requirement already satisfied: zipp>=0.5 in /usr/local/lib/python3.10/dist-packages (from importlib-metadata->dash) (3.18.1)\n",
            "Requirement already satisfied: charset-normalizer<4,>=2 in /usr/local/lib/python3.10/dist-packages (from requests->dash) (3.3.2)\n",
            "Requirement already satisfied: idna<4,>=2.5 in /usr/local/lib/python3.10/dist-packages (from requests->dash) (3.6)\n",
            "Requirement already satisfied: urllib3<3,>=1.21.1 in /usr/local/lib/python3.10/dist-packages (from requests->dash) (2.0.7)\n",
            "Requirement already satisfied: certifi>=2017.4.17 in /usr/local/lib/python3.10/dist-packages (from requests->dash) (2024.2.2)\n",
            "Requirement already satisfied: six>=1.7.0 in /usr/local/lib/python3.10/dist-packages (from retrying->dash) (1.16.0)\n"
          ]
        }
      ],
      "source": [
        "pip install dash"
      ]
    },
    {
      "cell_type": "code",
      "execution_count": 15,
      "id": "59e2d6c7",
      "metadata": {
        "colab": {
          "base_uri": "https://localhost:8080/",
          "height": 672
        },
        "id": "59e2d6c7",
        "outputId": "f8ea7016-44e5-4fd5-e8ac-f69babb8cb9d"
      },
      "outputs": [
        {
          "output_type": "display_data",
          "data": {
            "text/plain": [
              "<IPython.core.display.Javascript object>"
            ],
            "application/javascript": [
              "(async (port, path, width, height, cache, element) => {\n",
              "    if (!google.colab.kernel.accessAllowed && !cache) {\n",
              "      return;\n",
              "    }\n",
              "    element.appendChild(document.createTextNode(''));\n",
              "    const url = await google.colab.kernel.proxyPort(port, {cache});\n",
              "    const iframe = document.createElement('iframe');\n",
              "    iframe.src = new URL(path, url).toString();\n",
              "    iframe.height = height;\n",
              "    iframe.width = width;\n",
              "    iframe.style.border = 0;\n",
              "    iframe.allow = [\n",
              "        'accelerometer',\n",
              "        'autoplay',\n",
              "        'camera',\n",
              "        'clipboard-read',\n",
              "        'clipboard-write',\n",
              "        'gyroscope',\n",
              "        'magnetometer',\n",
              "        'microphone',\n",
              "        'serial',\n",
              "        'usb',\n",
              "        'xr-spatial-tracking',\n",
              "    ].join('; ');\n",
              "    element.appendChild(iframe);\n",
              "  })(8050, \"/\", \"100%\", 650, false, window.element)"
            ]
          },
          "metadata": {}
        }
      ],
      "source": [
        "import dash\n",
        "from dash import html\n",
        "import requests\n",
        "\n",
        "url = \"https://twitter-api45.p.rapidapi.com/followers.php\"\n",
        "querystring = {\"screenname\": \"elonmusk\"}\n",
        "headers = {\n",
        "    \"X-RapidAPI-Key\": \"a4c9a8f42fmsh3b2cd956ab2167bp1096fbjsn654dd6eeb638\",\n",
        "    \"X-RapidAPI-Host\": \"twitter-api45.p.rapidapi.com\"\n",
        "}\n",
        "response = requests.get(url, headers=headers, params=querystring)\n",
        "data = response.json()\n",
        "\n",
        "follower_ids = []\n",
        "\n",
        "if \"followers\" in data:\n",
        "    follower_ids = [follower[\"screen_name\"] for follower in data[\"followers\"]]\n",
        "\n",
        "app = dash.Dash(__name__)\n",
        "\n",
        "app.layout = html.Div([\n",
        "    html.H1('Followers of Elon Musk'),\n",
        "    html.Ul([html.Li(user_id) for user_id in follower_ids])\n",
        "])\n",
        "\n",
        "if __name__ == '__main__':\n",
        "    app.run_server(debug=True)\n"
      ]
    },
    {
      "cell_type": "code",
      "execution_count": null,
      "id": "7585fca2",
      "metadata": {
        "id": "7585fca2"
      },
      "outputs": [],
      "source": []
    }
  ],
  "metadata": {
    "kernelspec": {
      "display_name": "Python 3 (ipykernel)",
      "language": "python",
      "name": "python3"
    },
    "language_info": {
      "codemirror_mode": {
        "name": "ipython",
        "version": 3
      },
      "file_extension": ".py",
      "mimetype": "text/x-python",
      "name": "python",
      "nbconvert_exporter": "python",
      "pygments_lexer": "ipython3",
      "version": "3.11.4"
    },
    "colab": {
      "provenance": []
    }
  },
  "nbformat": 4,
  "nbformat_minor": 5
}